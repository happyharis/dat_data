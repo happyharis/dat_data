{
 "cells": [
  {
   "cell_type": "markdown",
   "metadata": {},
   "source": [
    "Reference from [here](https://nbviewer.jupyter.org/github/julienr/ipynb_playground/blob/master/bitcoin/dumbcoin/dumbcoin.ipynb#attacks)"
   ]
  },
  {
   "cell_type": "code",
   "execution_count": 1,
   "metadata": {
    "collapsed": true
   },
   "outputs": [],
   "source": [
    "%matplotlib inline\n",
    "\n",
    "import hashlib\n",
    "import random\n",
    "import string\n",
    "import json\n",
    "import binascii\n",
    "import numpy as np\n",
    "import pandas as pd\n",
    "import pylab as pl\n",
    "import logging"
   ]
  },
  {
   "cell_type": "markdown",
   "metadata": {},
   "source": [
    "## Hash function and mining"
   ]
  },
  {
   "cell_type": "markdown",
   "metadata": {},
   "source": [
    "Hash function that turn a string into a fixed-length string of 64 hexadecimal characters"
   ]
  },
  {
   "cell_type": "code",
   "execution_count": 2,
   "metadata": {
    "collapsed": true
   },
   "outputs": [],
   "source": [
    "def sha256(message):\n",
    "    return hashlib.sha256(message.encode('ascii')).hexdigest()"
   ]
  },
  {
   "cell_type": "code",
   "execution_count": 3,
   "metadata": {},
   "outputs": [
    {
     "name": "stdout",
     "output_type": "stream",
     "text": [
      "b94d27b9934d3e08a52e52d7da7dabfac484efe37a5380ee9088f7ace2efcde9\n"
     ]
    }
   ],
   "source": [
    "#example \n",
    "\n",
    "message = 'hello world'\n",
    "print(sha256(message))"
   ]
  },
  {
   "cell_type": "markdown",
   "metadata": {},
   "source": [
    "Given a string (string), find a nonce that hash(x + nonce) produces a hash starting with a number that has 2 leading numbers"
   ]
  },
  {
   "cell_type": "code",
   "execution_count": 4,
   "metadata": {},
   "outputs": [
    {
     "name": "stdout",
     "output_type": "stream",
     "text": [
      "found nonce: 762\n",
      "58e0081439d67fa3fc3e94bcce079c4d65b69db5a3a4fdef15aa77d490ae0aa4\n"
     ]
    }
   ],
   "source": [
    "for nonce in range(1000):\n",
    "    digest = sha256(message + str(nonce))\n",
    "    if digest.startswith('58'):\n",
    "        print('found nonce: {}'.format(nonce))\n",
    "        break\n",
    "print(sha256(message + str(nonce)))"
   ]
  },
  {
   "cell_type": "markdown",
   "metadata": {},
   "source": [
    "The more you increase the number in leading, the harder it to find a nonce. This is called mining difficulty. Bitcoin require for a number to be below a certain value."
   ]
  },
  {
   "cell_type": "markdown",
   "metadata": {},
   "source": [
    "Define 2 functions: hash a string and to mine a nonce a given string"
   ]
  },
  {
   "cell_type": "code",
   "execution_count": 5,
   "metadata": {},
   "outputs": [],
   "source": [
    "def normal_hash(message):\n",
    "    return sha256(message)\n",
    "\n",
    "def mine(message, difficulty=1):\n",
    "    assert difficulty >= 1, \"Difficulty of 0 is not possible\" #hard debug for any possible buggy inputs with error msg\n",
    "    i = 0\n",
    "    prefix = '1' * difficulty\n",
    "    while True:\n",
    "        nonce = str(i)\n",
    "        digest = normal_hash(message + nonce)\n",
    "        if digest.startswith(prefix):\n",
    "            return nonce, i\n",
    "        i += 1"
   ]
  },
  {
   "cell_type": "code",
   "execution_count": 6,
   "metadata": {},
   "outputs": [
    {
     "name": "stdout",
     "output_type": "stream",
     "text": [
      "Took 23 iterations\n"
     ]
    }
   ],
   "source": [
    "none, num_of_iterations = mine('42', difficulty=1)\n",
    "print('Took {} iterations'.format(num_of_iterations))"
   ]
  },
  {
   "cell_type": "code",
   "execution_count": 7,
   "metadata": {},
   "outputs": [
    {
     "name": "stdout",
     "output_type": "stream",
     "text": [
      "Took 2272 iterations\n"
     ]
    }
   ],
   "source": [
    "none, num_of_iterations = mine('42', difficulty=3)\n",
    "print('Took {} iterations'.format(num_of_iterations))"
   ]
  },
  {
   "cell_type": "markdown",
   "metadata": {},
   "source": [
    "The higher the difficulty, the more iterations it took. You could lucky and get the first solution to solve the first or second example by chance. Thus, the difficulty controls the average number of tries. Let's plot this difficulty."
   ]
  },
  {
   "cell_type": "markdown",
   "metadata": {},
   "source": [
    "## Plotting difficulty"
   ]
  },
  {
   "cell_type": "code",
   "execution_count": 8,
   "metadata": {},
   "outputs": [],
   "source": [
    "def random_string(length=10):\n",
    "    return ''.join(random.choice(string.ascii_uppercase + string.digits) for _ in range(length))\n",
    "    #random choice from the alphabets and number and join them as string in a list\n",
    "\n",
    "strings = [random_string() for i in range(50)] #produce a list of 50 random characters"
   ]
  },
  {
   "cell_type": "code",
   "execution_count": 9,
   "metadata": {},
   "outputs": [],
   "source": [
    "levels = range(1, 5)\n",
    "#creating a table with columns of difficulty, each columns for each test string\n",
    "results = pd.DataFrame(index=strings, columns=levels, dtype=np.int)\n",
    "results.fillna(value=0)\n",
    "\n",
    "for level in levels:\n",
    "    for s in strings:\n",
    "        _, num_of_iterations = mine(s, difficulty=level)\n",
    "        results[level][s] = num_of_iterations"
   ]
  },
  {
   "cell_type": "code",
   "execution_count": 10,
   "metadata": {},
   "outputs": [
    {
     "data": {
      "text/html": [
       "<div>\n",
       "<style>\n",
       "    .dataframe thead tr:only-child th {\n",
       "        text-align: right;\n",
       "    }\n",
       "\n",
       "    .dataframe thead th {\n",
       "        text-align: left;\n",
       "    }\n",
       "\n",
       "    .dataframe tbody tr th {\n",
       "        vertical-align: top;\n",
       "    }\n",
       "</style>\n",
       "<table border=\"1\" class=\"dataframe\">\n",
       "  <thead>\n",
       "    <tr style=\"text-align: right;\">\n",
       "      <th></th>\n",
       "      <th>1</th>\n",
       "      <th>2</th>\n",
       "      <th>3</th>\n",
       "      <th>4</th>\n",
       "    </tr>\n",
       "  </thead>\n",
       "  <tbody>\n",
       "    <tr>\n",
       "      <th>TU1L5QCDSE</th>\n",
       "      <td>5</td>\n",
       "      <td>117</td>\n",
       "      <td>2643</td>\n",
       "      <td>4305</td>\n",
       "    </tr>\n",
       "    <tr>\n",
       "      <th>6CHO9DKGF1</th>\n",
       "      <td>6</td>\n",
       "      <td>451</td>\n",
       "      <td>1221</td>\n",
       "      <td>88622</td>\n",
       "    </tr>\n",
       "    <tr>\n",
       "      <th>I954YZSAXN</th>\n",
       "      <td>8</td>\n",
       "      <td>50</td>\n",
       "      <td>13509</td>\n",
       "      <td>27054</td>\n",
       "    </tr>\n",
       "    <tr>\n",
       "      <th>4XN6O6WU3E</th>\n",
       "      <td>5</td>\n",
       "      <td>61</td>\n",
       "      <td>2061</td>\n",
       "      <td>36530</td>\n",
       "    </tr>\n",
       "    <tr>\n",
       "      <th>Z7WCFI11VR</th>\n",
       "      <td>8</td>\n",
       "      <td>89</td>\n",
       "      <td>21328</td>\n",
       "      <td>92072</td>\n",
       "    </tr>\n",
       "  </tbody>\n",
       "</table>\n",
       "</div>"
      ],
      "text/plain": [
       "            1    2      3      4\n",
       "TU1L5QCDSE  5  117   2643   4305\n",
       "6CHO9DKGF1  6  451   1221  88622\n",
       "I954YZSAXN  8   50  13509  27054\n",
       "4XN6O6WU3E  5   61   2061  36530\n",
       "Z7WCFI11VR  8   89  21328  92072"
      ]
     },
     "execution_count": 10,
     "metadata": {},
     "output_type": "execute_result"
    }
   ],
   "source": [
    "results.iloc[:5]"
   ]
  },
  {
   "cell_type": "code",
   "execution_count": 11,
   "metadata": {},
   "outputs": [
    {
     "data": {
      "text/plain": [
       "Text(0,0.5,'Iterations')"
      ]
     },
     "execution_count": 11,
     "metadata": {},
     "output_type": "execute_result"
    },
    {
     "data": {
      "image/png": "[encoded data removed]",
      "text/plain": [
       "<matplotlib.figure.Figure at 0x1104f4e48>"
      ]
     },
     "metadata": {},
     "output_type": "display_data"
    }
   ],
   "source": [
    "pl.figure(figsize=(10, 5))\n",
    "ax = pl.subplot(121)#1st num = height, 2nd num= width, \n",
    "ax.set_title('Number of iterations to minr a nonce for varios difficulty')\n",
    "results.plot.box(showfliers=False, ax=ax)\n",
    "ax.set_xlabel('Difficulty')\n",
    "ax.set_ylabel('Iterations')"
   ]
  },
  {
   "cell_type": "markdown",
   "metadata": {},
   "source": [
    "## Building a wallet"
   ]
  },
  {
   "cell_type": "markdown",
   "metadata": {},
   "source": [
    "1. For building a wallet, you need a key generation that creates a key pair (public and secret key).\n",
    "2. You also need a function to turn your message into a digital signature with your secret key. \n",
    "3. Lastly, you need to have a validation function to check the confirmation of your signature"
   ]
  },
  {
   "cell_type": "code",
   "execution_count": 12,
   "metadata": {},
   "outputs": [],
   "source": [
    "import Crypto\n",
    "import Crypto.Random\n",
    "from Crypto.Hash import SHA\n",
    "from Crypto.PublicKey import RSA\n",
    "from Crypto.Signature import PKCS1_v1_5\n",
    "\n",
    "class Wallet(object):\n",
    "    \n",
    "    \n",
    "    def __init__(self):\n",
    "        #creates random output of cryptographically bytes, \n",
    "        random_gen = Crypto.Random.new().read\n",
    "        \n",
    "        #creates private key\n",
    "        self._private_key = RSA.generate(1024, random_gen) #RSA public-key cryptography(randomised encryption and signature) \n",
    "        \n",
    "        #creates public key\n",
    "        self._public_key = self._private_key.publickey()\n",
    "        \n",
    "        #creates a pen for you sign from your private key\n",
    "        self._signer = PKCS1_v1_5.new(self._private_key)\n",
    "    \n",
    "    @property #embedded python\n",
    "    def address(self):\n",
    "        return binascii.hexlify(self._public_key.exportKey(format='DER')).decode('ascii')\n",
    "        #DER = binary encoding, always unencrypted\n",
    "        \n",
    "    def sign(self, message):\n",
    "        h = SHA.new(message.encode('utf8'))\n",
    "        return binascii.hexlify(self._signer.sign(h)).decode('ascii')\n",
    "        #sign with the message, creating a digital signature\n",
    "    \n",
    "        #hexlify = return hexadecimal representation of the binary data converted the correspondin 2-digit hex representation\n",
    "        #returned bytes object is twice as long as the length of data\n",
    "\n",
    "#validation function\n",
    "def verify_signature(wallet_address, message, signature):\n",
    "    pubkey = RSA.importKey(binascii.unhexlify(wallet_address))\n",
    "    verifier = PKCS1_v1_5.new(pubkey)\n",
    "    h = SHA.new(message.encode('utf8'))\n",
    "    return verifier.verify(h, binascii.unhexlify(signature))\n",
    "\n",
    "w1 = Wallet()\n",
    "signature = w1.sign('foobar')\n",
    "assert verify_signature(w1.address, 'foobar', signature)\n",
    "assert not verify_signature(w1.address, 'rogue message', signature)"
   ]
  },
  {
   "cell_type": "markdown",
   "metadata": {},
   "source": [
    "## Doing transactions"
   ]
  },
  {
   "cell_type": "markdown",
   "metadata": {},
   "source": [
    "Transactions is normally consists of:\n",
    "* Spender, who signs the transactions and the one spending their own money\n",
    "* Number of inputs, inclusive of other transactions output. The recipient of these should be the spenders wallet. Otherwise, you could spend other people's money\n",
    "* A number of outputs, each of which specifiy an amount of money and a receiver\n",
    "\n",
    "Moreover, transactions contain \"transaction fee\" which is an incentive for miners to put your transaction into the blockchain.\n",
    "\n",
    "Since all transactions need a parent, we also need a root in our hierachy. Called the genesisTransaction."
   ]
  },
  {
   "cell_type": "code",
   "execution_count": 13,
   "metadata": {},
   "outputs": [],
   "source": [
    "class TransactionInput(object):\n",
    "    \n",
    "    #an input for transaction, and points to the output of the other transaction\n",
    "\n",
    "    def __init__(self, transaction, output_index):\n",
    "        self.transaction = transaction\n",
    "        self.output_index = output_index\n",
    "        assert 0 <= self.output_index < len(transaction.outputs)\n",
    "        #output cannot be less than 0\n",
    "        \n",
    "    def to_dict(self):\n",
    "        d = {\n",
    "            'transaction' : self.transaction.hash(),\n",
    "            'output_index' : self.output_index\n",
    "        }\n",
    "        return d\n",
    "    \n",
    "    @property\n",
    "    def parent_output(self):\n",
    "        return self.transaction.outputs[self.output_index]\n",
    "    \n",
    "class TransactionOutput(object):\n",
    "    \n",
    "    #an output for a transaction which specifies the amount and the receiver's wallet\n",
    "    \n",
    "    def __init__(self, receiver_address, amount):\n",
    "        self.receiver = receiver_address\n",
    "        self.amount = amount\n",
    "    \n",
    "    def to_dict(self):\n",
    "        d = {\n",
    "            'receiver_address': self.receiver,\n",
    "            'amount': self.amount\n",
    "        }\n",
    "        return d\n",
    "\n",
    "def compute_fee(inputs, outputs):\n",
    "    #compute transaction fee by subtracting the total input by the total output\n",
    "    \n",
    "    total_in = sum(i.transaction.outputs[i.output_index].amount for i in inputs)\n",
    "    total_out = sum(y.amount for y in outputs)\n",
    "    assert total_out <= total_in, \"Invalid transactions with out {} > in {}\".format(total_out, total_in)\n",
    "    #error when input is equal or less than the output\n",
    "    #you must have a fee with your transaction(input) more than your succesful output transaction\n",
    "    return total_in - total_out\n",
    "\n",
    "class Transaction(object):\n",
    "    def __init__(self, wallet, inputs, outputs):\n",
    "        #create a transaction spending money from the provided wallet\n",
    "        \n",
    "        self.inputs = inputs\n",
    "        self.outputs = outputs\n",
    "        self.fee = compute_fee(inputs, outputs)\n",
    "        self.signature = wallet.sign(json.dumps(self.to_dict(include_signature=False)))\n",
    "        \n",
    "    def to_dict(self, include_signature=True):\n",
    "        d = {\n",
    "            \"inputs\": list(map(TransactionInput.to_dict, self.inputs)),\n",
    "            \"outputs\": list(map(TransactionOutput.to_dict, self.outputs)),\n",
    "            \"fee\": self.fee\n",
    "        }\n",
    "        if include_signature:\n",
    "            d[\"signature\"] = self.signature\n",
    "        return d\n",
    "    \n",
    "    def hash(self):\n",
    "        return normal_hash(json.dumps(self.to_dict()))\n",
    "        #light-weight data interchange format\n",
    "    \n",
    "class GenesisTransaction(Transaction):\n",
    "    \n",
    "    #first transactioin which is a unique transactions with no input and 25 bitcoin output\n",
    "    \n",
    "    def __init__(self, receiver_address, amount=25):\n",
    "        self.inputs = []\n",
    "        self.outputs = [\n",
    "            TransactionOutput(receiver_address, amount)\n",
    "        ]\n",
    "        self.fee = 0\n",
    "        self.signature = 'genesis'\n",
    "    \n",
    "    def to_dict(self, include_signature=False):\n",
    "        assert not include_signature, \"Cannot include signature of genesis transaction\"\n",
    "        return super().to_dict(include_signature=False)"
   ]
  },
  {
   "cell_type": "code",
   "execution_count": 14,
   "metadata": {},
   "outputs": [],
   "source": [
    "alice = Wallet()\n",
    "bob = Wallet()\n",
    "\n",
    "t1 = GenesisTransaction(alice.address)\n",
    "t2 = Transaction(alice, \n",
    "                 [TransactionInput(t1, 0)], \n",
    "                 [TransactionOutput(bob.address, 2.0), TransactionOutput(alice.address, 22.0)])\n",
    "\n",
    "assert np.abs(t2.fee - 1.0) < 1e5\n"
   ]
  },
  {
   "cell_type": "code",
   "execution_count": 15,
   "metadata": {},
   "outputs": [],
   "source": [
    "# ali = Wallet()\n",
    "# babi = Wallet()\n",
    "# caca = Wallet()\n",
    "\n",
    "# #first transaction (ali = 25)\n",
    "# t1 = GenesisTransaction(ali.address)\n",
    "\n",
    "# #second transaction(ali=25 ==> ali=10, babi=7, caca=8)\n",
    "# t2 = Transaction(ali,\n",
    "#                 [TransactionInput(t1, 0)],\n",
    "#                 [TransactionOutput(ali.address, 10.0), TransactionOutput(babi.address, 7.0), TransactionOutput(caca.address, 8.0)])\n",
    "\n",
    "# #third transaction(babi =2=> caca)\n",
    "# t3 = Transaction(babi,\n",
    "#                 [TransactionInput(t2, 1)],\n",
    "#                 [TransactionOutput(caca.address, 2.0)])\n",
    "\n",
    "# #last transaction(cc =2= > ali, =1=> cc)\n",
    "# t4 = Transaction(caca,\n",
    "#                 [TransactionInput(t2, 2), TransactionInput(t3, 0)],\n",
    "#                 [TransactionOutput(ali.address, 2.0), TransactionOutput(caca.address, 1.0)])\n",
    "\n",
    "# trans = [t1, t2, t3, t4]"
   ]
  },
  {
   "cell_type": "code",
   "execution_count": 16,
   "metadata": {
    "collapsed": true
   },
   "outputs": [],
   "source": [
    "alice = Wallet()\n",
    "bob = Wallet()\n",
    "walter = Wallet()\n",
    "\n",
    "# This gives 25 coins to Alice\n",
    "t1 = GenesisTransaction(alice.address)\n",
    "\n",
    "# Of those 25, Alice will spend\n",
    "# Alice -- 5 --> Bob\n",
    "#       -- 15 --> Alice\n",
    "#       -- 5 --> Walter\n",
    "t2 = Transaction(\n",
    "    alice,\n",
    "    [TransactionInput(t1, 0)],\n",
    "    [TransactionOutput(bob.address, 5.0), TransactionOutput(alice.address, 15.0), TransactionOutput(walter.address, 5.0)]\n",
    ")\n",
    "\n",
    "# Walter -- 5 --> Bob\n",
    "t3 = Transaction(\n",
    "    bob,\n",
    "    [TransactionInput(t2, 2)],\n",
    "    [TransactionOutput(walter.address, 5.0)])\n",
    "\n",
    "# Bob -- 8 --> Walter\n",
    "#     -- 1 --> Bob\n",
    "#        1 fee\n",
    "t4 = Transaction(\n",
    "    bob,\n",
    "    [TransactionInput(t2, 0), TransactionInput(t3, 0)],\n",
    "    [TransactionOutput(walter.address, 8.0), TransactionOutput(bob.address, 1.0)]\n",
    ")\n",
    "\n",
    "transactions = [t1, t2, t3, t4]"
   ]
  },
  {
   "cell_type": "code",
   "execution_count": 17,
   "metadata": {},
   "outputs": [
    {
     "name": "stdout",
     "output_type": "stream",
     "text": [
      "Ali has 15.0 dummycoin\n",
      "Babi has 1.0 dummycoin\n",
      "Caca has 8.0 dummycoin\n"
     ]
    }
   ],
   "source": [
    "def compute_balance(wallet_address, transactions):\n",
    "    \n",
    "    balance = 0\n",
    "    for t in transactions:\n",
    "        for trin in t.inputs:\n",
    "            if trin.parent_output.receiver == wallet_address:\n",
    "                balance -= trin.parent_output.amount\n",
    "        for trout in t.outputs:\n",
    "            if trout.receiver == wallet_address:\n",
    "                balance += trout.amount\n",
    "    return balance\n",
    "\n",
    "print('Ali has {} dummycoin'.format(compute_balance(alice.address, transactions)))\n",
    "print('Babi has {} dummycoin'.format(compute_balance(bob.address, transactions)))\n",
    "print('Caca has {} dummycoin'.format(compute_balance(walter.address, transactions)))"
   ]
  },
  {
   "cell_type": "code",
   "execution_count": 18,
   "metadata": {},
   "outputs": [
    {
     "ename": "AssertionError",
     "evalue": "Houston we've got a problem",
     "output_type": "error",
     "traceback": [
      "\u001b[0;31m---------------------------------------------------------------------------\u001b[0m",
      "\u001b[0;31mAssertionError\u001b[0m                            Traceback (most recent call last)",
      "\u001b[0;32m<ipython-input-18-14587e197f0e>\u001b[0m in \u001b[0;36m<module>\u001b[0;34m()\u001b[0m\n\u001b[0;32m----> 1\u001b[0;31m \u001b[0;32massert\u001b[0m \u001b[0;36m2\u001b[0m \u001b[0;34m+\u001b[0m \u001b[0;36m2\u001b[0m \u001b[0;34m==\u001b[0m \u001b[0;36m5\u001b[0m\u001b[0;34m,\u001b[0m \u001b[0;34m\"Houston we've got a problem\"\u001b[0m\u001b[0;34m\u001b[0m\u001b[0m\n\u001b[0m",
      "\u001b[0;31mAssertionError\u001b[0m: Houston we've got a problem"
     ]
    }
   ],
   "source": [
    "assert 2 + 2 == 5, \"Houston we've got a problem\""
   ]
  },
  {
   "cell_type": "code",
   "execution_count": 59,
   "metadata": {
    "collapsed": true
   },
   "outputs": [],
   "source": [
    "def verify_transaction(transaction):\n",
    "    \"\"\"\n",
    "    Verify that the transaction is valid.\n",
    "    We need to verify two things :\n",
    "    - That all of the inputs of the transaction belong to the same wallet\n",
    "    - That the transaction is signed by the owner of said wallet\n",
    "    \"\"\"\n",
    "    tx_message = json.dumps(transaction.to_dict(include_signature=False))\n",
    "    if isinstance(transaction, GenesisTransaction):\n",
    "        # TODO: We should probably be more careful about validating genesis transactions\n",
    "        return True\n",
    "    \n",
    "    # Verify input transactions\n",
    "    for tx in transaction.inputs:\n",
    "        if not verify_transaction(tx.transaction):\n",
    "            logging.error(\"Invalid parent transaction\")\n",
    "            return False\n",
    "    \n",
    "    # Verify a single wallet owns all the inputs\n",
    "    first_input_address = transaction.inputs[0].parent_output.receiver\n",
    "    for txin in transaction.inputs[1:]:\n",
    "        if txin.parent_output.receiver != first_input_address:\n",
    "            logging.error(\n",
    "                \"Transaction inputs belong to multiple wallets (%s and %s)\" %\n",
    "                (txin.parent_output.receiver, first_input_address)\n",
    "            )\n",
    "            return False\n",
    "    \n",
    "    if not verify_signature(first_input_address, tx_message, transaction.signature):\n",
    "        logging.error(\"Invalid transaction signature, trying to spend someone else's money ?\")\n",
    "        return False\n",
    "    \n",
    "    # Call compute_fee here to trigger an assert if output sum is great than input sum. Without this,\n",
    "    # a miner could put such an invalid transaction.\n",
    "    compute_fee(transaction.inputs, transaction.outputs)\n",
    "    \n",
    "    return True\n",
    "\n",
    "\n",
    "t1 = GenesisTransaction(alice.address)\n",
    "# This is an invalid transaction because bob is trying to spend alice's money\n",
    "# (alice was the recipient of the input - t1)\n",
    "t2 = Transaction(\n",
    "    bob,\n",
    "    [TransactionInput(t1, 0)],\n",
    "    [TransactionOutput(walter.address, 10.0)]\n",
    ")\n",
    "# This is valid, alice is spending her own money\n",
    "t3 = Transaction(\n",
    "    alice,\n",
    "    [TransactionInput(t1, 0)],\n",
    "    [TransactionOutput(walter.address, 10.0)]\n",
    ")\n",
    "\n",
    "transactions = [t1, t2, t3]"
   ]
  },
  {
   "cell_type": "code",
   "execution_count": 60,
   "metadata": {},
   "outputs": [],
   "source": [
    "# def verify_transaction(transaction):\n",
    "    \n",
    "#     tx_message = json.dumps(transaction.to_dict(include_signature=False))\n",
    "    \n",
    "#     if isinstance(transaction, GenesisTransaction):\n",
    "#         return True\n",
    "\n",
    "#     for tx in transaction.inputs:\n",
    "#         if not verify_transaction(tx.transaction):\n",
    "#             logging.error('Invalid parent transaction')\n",
    "#             return False\n",
    "    \n",
    "#     first_input_address = transaction.inputs[0].parent_output.receiver\n",
    "#     for txin in transaction.inputs[1:]:\n",
    "#         if txin.parent_output.receiver != first_input_address:\n",
    "#             logging.error(\n",
    "#                 \"Transaction inputs belong to multiple wallets {} {}\".format(txin.parent_output.receiver, first_input_address)\n",
    "#             )\n",
    "#             return False\n",
    "    \n",
    "#     if not verify_signature(first_input_address, tx_message, transaction.signature):\n",
    "#         logging.error(\"Invalid transaction signature, trying to spend someone else's money?\")\n",
    "#         return False\n",
    "    \n",
    "#     compute_fee(transaction.inputs, transaction.outputs)\n",
    "    \n",
    "#     return True\n",
    "\n",
    "# t1 = GenesisTransaction(alice.address)\n",
    "\n",
    "# t2 = Transaction(bob, [TransactionInput(t1, 0)], [TransactionOutput(walter.address, 10.0)])\n",
    "\n",
    "# t3 = Transaction(\n",
    "#     alice,\n",
    "#     [TransactionInput(t1, 0)],\n",
    "#     [TransactionOutput(walter.address, 10.0)]\n",
    "# )"
   ]
  },
  {
   "cell_type": "code",
   "execution_count": 61,
   "metadata": {},
   "outputs": [],
   "source": [
    "assert verify_transaction(t1)"
   ]
  },
  {
   "cell_type": "code",
   "execution_count": 62,
   "metadata": {},
   "outputs": [
    {
     "name": "stderr",
     "output_type": "stream",
     "text": [
      "ERROR:root:Invalid transaction signature, trying to spend someone else's money ?\n"
     ]
    }
   ],
   "source": [
    "assert not verify_transaction(t2)"
   ]
  },
  {
   "cell_type": "code",
   "execution_count": 63,
   "metadata": {},
   "outputs": [
    {
     "ename": "TypeError",
     "evalue": "verify_signature() missing 2 required positional arguments: 'message' and 'signature'",
     "output_type": "error",
     "traceback": [
      "\u001b[0;31m---------------------------------------------------------------------------\u001b[0m",
      "\u001b[0;31mTypeError\u001b[0m                                 Traceback (most recent call last)",
      "\u001b[0;32m<ipython-input-63-4610155e02e5>\u001b[0m in \u001b[0;36m<module>\u001b[0;34m()\u001b[0m\n\u001b[0;32m----> 1\u001b[0;31m \u001b[0;32massert\u001b[0m \u001b[0mverify_signature\u001b[0m\u001b[0;34m(\u001b[0m\u001b[0mt3\u001b[0m\u001b[0;34m)\u001b[0m\u001b[0;34m\u001b[0m\u001b[0m\n\u001b[0m",
      "\u001b[0;31mTypeError\u001b[0m: verify_signature() missing 2 required positional arguments: 'message' and 'signature'"
     ]
    }
   ],
   "source": [
    "assert verify_signature(t3)"
   ]
  },
  {
   "cell_type": "code",
   "execution_count": 64,
   "metadata": {},
   "outputs": [
    {
     "name": "stdout",
     "output_type": "stream",
     "text": [
      "-25\n"
     ]
    }
   ],
   "source": [
    "print(compute_balance(alice.address, transactions))"
   ]
  },
  {
   "cell_type": "code",
   "execution_count": 65,
   "metadata": {},
   "outputs": [],
   "source": [
    "?verify_signature(t3)"
   ]
  },
  {
   "cell_type": "code",
   "execution_count": 66,
   "metadata": {},
   "outputs": [
    {
     "name": "stdout",
     "output_type": "stream",
     "text": [
      "[<__main__.TransactionOutput object at 0x11ca29b38>]\n"
     ]
    }
   ],
   "source": [
    "print(t3.outputs\n",
    "     )"
   ]
  },
  {
   "cell_type": "markdown",
   "metadata": {},
   "source": [
    "## Putting transactions in blocks"
   ]
  },
  {
   "cell_type": "markdown",
   "metadata": {},
   "source": [
    "We have:\n",
    "\n",
    "* a way to define a wallet (as a private/public key pair)\n",
    "* create transactions between wallets\n",
    "* verify transactions (checking signature matches)\n",
    "\n",
    "Now we need: \n",
    "\n",
    "* Verifying the transactions in the block\n",
    "* Finding a nonce such that block hash starts with a number of 0\n",
    "\n",
    "First transaction is a genesis transaction that gives 25 coins to whatever the miner chose. Miner can add transactions to redirect the fees from transactions in the block to whatever address it chooses."
   ]
  },
  {
   "cell_type": "code",
   "execution_count": 67,
   "metadata": {
    "collapsed": true
   },
   "outputs": [],
   "source": [
    "BLOCK_INCENTIVE = 25\n",
    "DIFFICULTY = 2\n",
    "\n",
    "def compute_total_fee(transactions):\n",
    "    #Return the total fee for the set of transactions\n",
    "    return sum(t.fee for t in transactions)\n",
    "\n",
    "class Block(object):\n",
    "    def __init__(self, transactions, ancestor, miner_address, skip_verif=False):\n",
    "        \"\"\"\n",
    "        Args:\n",
    "            transactions: the list of transactions to include in the block\n",
    "            ancestor: the previous block\n",
    "            miner_address: the address of the miner's wallet. this is where the incentive\n",
    "            and the transactions fees will be deposited\n",
    "        \"\"\"\n",
    "        reward = compute_total_fee(transactions) + BLOCK_INCENTIVE\n",
    "        self.transactions = [GenesisTransaction(miner_address, amount=reward)] + transactions\n",
    "        self.ancestor = ancestor\n",
    "        \n",
    "        if not skip_verif:\n",
    "            assert all(map(verify_transaction, transactions))\n",
    "            #check all the the transactions are true\n",
    "            \n",
    "        json_block = json.dumps(self.to_dict(include_hash=False))\n",
    "        self.nonce, _ = mine(json_block, DIFFICULTY)\n",
    "        self.hash = normal_hash(json_block + self.nonce)\n",
    "        \n",
    "    def fee(self):\n",
    "        return compute_total_fee(self.transactions)\n",
    "    \n",
    "    def to_dict(self, include_hash=True):\n",
    "        d = {\n",
    "            \"transactions\" : list(map(Transaction.to_dict, self.transactions)),\n",
    "            \"previous_block\" : self.ancestor.hash\n",
    "        }\n",
    "        if include_hash:\n",
    "            d[\"nonce\"] = self.nonce\n",
    "            d[\"hash\"] = self.hash\n",
    "        return d\n",
    "    \n",
    "class GenesisBlock(Block):\n",
    "    \n",
    "    def __init__(self, miner_address):\n",
    "        super(GenesisBlock, self).__init__(transactions=[], ancestor=None, miner_address = miner_address)\n",
    "        \n",
    "    def to_dict(self, include_hash=True):\n",
    "        d = {\n",
    "            \"transactions\": [],\n",
    "            \"genesis_block\": True,\n",
    "        }\n",
    "        if include_hash:\n",
    "            d[\"nonce\"] = self.nonce\n",
    "            d[\"hash\"] = self.hash\n",
    "        return d"
   ]
  },
  {
   "cell_type": "code",
   "execution_count": 77,
   "metadata": {
    "collapsed": true
   },
   "outputs": [],
   "source": [
    " def verify_block(block, genesis_block, used_outputs=None):\n",
    "        '''\n",
    "        verifies that a block is valid:\n",
    "        - where it starts with the required amount of ones\n",
    "        - same transaction isnt used twice\n",
    "        - transactions are valid\n",
    "        - first transaction in the block is a genesis transaction with block incentive and total fees\n",
    "        \n",
    "        Args:\n",
    "            block: the block to validate\n",
    "            genesis_block: the genesis block (this needs to be shared by everybody)\n",
    "            used_outputs: list of outputs used in transactions for all blocks above this one\n",
    "        '''\n",
    "        if used_outputs is None:\n",
    "            used_outputs = set()\n",
    "            #unordered collection with no duplicate elements\n",
    "            \n",
    "        prefix = '1' * DIFFICULTY\n",
    "        if not block.hash.startswith(prefix):\n",
    "            logging.error(\"Block hash {} doesn't start with prefix {}\".format(block.hash, prefix))\n",
    "            return False\n",
    "        if not all(map(verify_transaction, block.transactions)):\n",
    "            return False\n",
    "        \n",
    "        #verify that transactions in this block don't use alredy spent outputs\n",
    "        \n",
    "        for transactions in block.transactions:\n",
    "            for i in transactions.inputs:\n",
    "                if i.parent_output in used_outputs:\n",
    "                    logging.error(\"Transaction uses an already spent output : {}\".format(json.dumps(i.parent_output.to_dict())))\n",
    "                    return False\n",
    "                used_outputs.add(i.parent_output)\n",
    "                \n",
    "        if not (block.hash == genesis_block.hash):\n",
    "            if not verify_block(block.ancestor, genesis_block, used_outputs):\n",
    "                logging.error(\"Failes to validate ancestor block\")\n",
    "                return False\n",
    "            \n",
    "        tx0 = block.transactions[0]\n",
    "        if not isinstance(tx0, GenesisTransaction):\n",
    "            logging.error(\"Transaction 0 is not a GenesisTransaction\")\n",
    "            return False\n",
    "        if not len(tx0.outputs) == 1:\n",
    "            logging.error(\"Transaction 0 doesn't have exactly 1 output\")\n",
    "            return False\n",
    "        reward = compute_total_fee(block.transactions[1:]) + BLOCK_INCENTIVE\n",
    "        if not tx0.outputs[0].amount == reward:\n",
    "            logging.error(\"Invalid amount in transaction 0 : {} expected {}\".format(tx0.outputs[0].amount, reward))\n",
    "            \n",
    "        for i, tx in enumerate(block.transactions):\n",
    "            if i == 0:\n",
    "                if not isinstance(tx, GenesisTransaction):\n",
    "                    logging.error(\"Non-genesis transaction at index 0\")\n",
    "                    return False\n",
    "            elif isinstance(tx, GenesisTransaction):\n",
    "                logging.error(\"GenesisTransaction (hash={}) at index {} is not equal 0\".format(tx.hash(), i))\n",
    "                return False\n",
    "        return True"
   ]
  },
  {
   "cell_type": "code",
   "execution_count": 78,
   "metadata": {},
   "outputs": [
    {
     "name": "stdout",
     "output_type": "stream",
     "text": [
      "genesis_block : 1162dce8ffec3acf13ce61109f121922eee8cceeea4784aa9d90dc6ec0e0fa92 with fee=0\n",
      "block1        : 11246ee6a6d7a1001d4573fbd4761d5f6b43f71e92f6f614ca17e72f80d0d3c8 with fee=0.0\n",
      "block2        : 118156361c44b907636a2b84d2b7ab7528f2a73eb659a1741e9d79185fda1ceb with fee=1.0\n"
     ]
    }
   ],
   "source": [
    "alice = Wallet()\n",
    "bob = Wallet()\n",
    "walter = Wallet()\n",
    "\n",
    "genesis_block = GenesisBlock(miner_address=alice.address)\n",
    "print(\"genesis_block : \" + genesis_block.hash + \" with fee=\" + str(genesis_block.fee()))\n",
    "\n",
    "t1 = genesis_block.transactions[0]\n",
    "t2 = Transaction(\n",
    "    alice,\n",
    "    [TransactionInput(t1, 0)],\n",
    "    [TransactionOutput(bob.address, 5.0), TransactionOutput(alice.address, 15.0), TransactionOutput(walter.address, 5.0)]\n",
    ")\n",
    "t3 = Transaction(\n",
    "    walter,\n",
    "    [TransactionInput(t2, 2)],\n",
    "    [TransactionOutput(bob.address, 5.0)])\n",
    "\n",
    "t4 = Transaction(\n",
    "    bob,\n",
    "    [TransactionInput(t2, 0), TransactionInput(t3, 0)],\n",
    "    [TransactionOutput(walter.address, 8.0), TransactionOutput(bob.address, 1.0)]\n",
    ")\n",
    "\n",
    "block1 = Block([t2], ancestor=genesis_block, miner_address=walter.address)\n",
    "print(\"block1        : \" + block1.hash + \" with fee=\" + str(block1.fee()))\n",
    "\n",
    "block2 = Block([t3, t4], ancestor=block1, miner_address=walter.address)\n",
    "print(\"block2        : \" + block2.hash + \" with fee=\" + str(block2.fee()))"
   ]
  },
  {
   "cell_type": "code",
   "execution_count": 79,
   "metadata": {},
   "outputs": [
    {
     "data": {
      "text/plain": [
       "True"
      ]
     },
     "execution_count": 79,
     "metadata": {},
     "output_type": "execute_result"
    }
   ],
   "source": [
    "verify_block(block1, genesis_block)"
   ]
  },
  {
   "cell_type": "code",
   "execution_count": 83,
   "metadata": {},
   "outputs": [
    {
     "name": "stdout",
     "output_type": "stream",
     "text": [
      "alice has 15.0 dumbcoins\n"
     ]
    }
   ],
   "source": [
    "def collect_transactions(block, genesis_block):\n",
    "    # recursively collect transactions in 'block' and all of its ancestors\n",
    "    transactions = [] + block.transactions\n",
    "    if block.hash != genesis_block.hash:\n",
    "        transactions += collect_transactions(block.ancestor, genesis_block)\n",
    "    return transactions\n",
    "\n",
    "transactions = collect_transactions(block2, genesis_block)\n",
    "print(\"alice has {} dumbcoins\".format(compute_balance(alice.address, transactions)))"
   ]
  },
  {
   "cell_type": "code",
   "execution_count": null,
   "metadata": {
    "collapsed": true
   },
   "outputs": [],
   "source": []
  }
 ],
 "metadata": {
  "kernelspec": {
   "display_name": "Python 3",
   "language": "python",
   "name": "python3"
  },
  "language_info": {
   "codemirror_mode": {
    "name": "ipython",
    "version": 3
   },
   "file_extension": ".py",
   "mimetype": "text/x-python",
   "name": "python",
   "nbconvert_exporter": "python",
   "pygments_lexer": "ipython3",
   "version": "3.6.3"
  }
 },
 "nbformat": 4,
 "nbformat_minor": 2
}
